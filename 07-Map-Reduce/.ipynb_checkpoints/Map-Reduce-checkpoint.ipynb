{
 "cells": [
  {
   "cell_type": "code",
   "execution_count": 36,
   "metadata": {},
   "outputs": [],
   "source": [
    "from functools import reduce"
   ]
  },
  {
   "cell_type": "code",
   "execution_count": 37,
   "metadata": {},
   "outputs": [],
   "source": [
    "words = [\"Deer\", \"Bear\", \"River\", \"Car\", \"Car\", \"River\", \"Deer\", \"Car\", \"Bear\"]\n",
    "\n",
    "mapping = map(lambda x : {x: 1}, words)"
   ]
  },
  {
   "cell_type": "code",
   "execution_count": 30,
   "metadata": {},
   "outputs": [
    {
     "name": "stdout",
     "output_type": "stream",
     "text": [
      "{'Deer': 1}\n",
      "{'Bear': 1}\n",
      "{'River': 1}\n",
      "{'Car': 1}\n",
      "{'Car': 1}\n",
      "{'River': 1}\n",
      "{'Deer': 1}\n",
      "{'Car': 1}\n",
      "{'Bear': 1}\n"
     ]
    }
   ],
   "source": [
    "for i in mapping:\n",
    "    print(i)"
   ]
  },
  {
   "cell_type": "code",
   "execution_count": 38,
   "metadata": {},
   "outputs": [],
   "source": [
    "def merge(dict1, dict2):\n",
    "    for key, value in dict2.items():\n",
    "        if key in dict1.keys():\n",
    "            dict1[key] += value\n",
    "        else:\n",
    "            dict1[key] = value\n",
    "    return dict1\n",
    "\n",
    "result = reduce(lambda x, y: merge(x, y), mapping, dict())"
   ]
  },
  {
   "cell_type": "code",
   "execution_count": 39,
   "metadata": {},
   "outputs": [
    {
     "data": {
      "text/plain": [
       "{'River': 1, 'Bear': 1}"
      ]
     },
     "execution_count": 39,
     "metadata": {},
     "output_type": "execute_result"
    }
   ],
   "source": [
    "merge({'River': 1}, {'Bear': 1})"
   ]
  },
  {
   "cell_type": "code",
   "execution_count": 40,
   "metadata": {},
   "outputs": [
    {
     "data": {
      "text/plain": [
       "{'Deer': 2, 'Bear': 2, 'River': 2, 'Car': 3}"
      ]
     },
     "execution_count": 40,
     "metadata": {},
     "output_type": "execute_result"
    }
   ],
   "source": [
    "result"
   ]
  },
  {
   "cell_type": "code",
   "execution_count": null,
   "metadata": {},
   "outputs": [],
   "source": []
  }
 ],
 "metadata": {
  "kernelspec": {
   "display_name": "Python 3",
   "language": "python",
   "name": "python3"
  },
  "language_info": {
   "codemirror_mode": {
    "name": "ipython",
    "version": 3
   },
   "file_extension": ".py",
   "mimetype": "text/x-python",
   "name": "python",
   "nbconvert_exporter": "python",
   "pygments_lexer": "ipython3",
   "version": "3.6.5"
  }
 },
 "nbformat": 4,
 "nbformat_minor": 2
}
